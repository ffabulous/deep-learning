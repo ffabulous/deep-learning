{
 "cells": [
  {
   "cell_type": "markdown",
   "metadata": {
    "collapsed": true
   },
   "source": [
    "# Equations\n",
    "\n",
    "- 3 weight matrices\n",
    "\n",
    "\\begin{align}\n",
    "h_t &= f_W(h_{t-1}, x_t) \\\\\n",
    "h_t &= \\tanh(W_{hh}h_{t-1}+W_{xh}x_t) \\\\\n",
    "y_t &= W_{hy}h_t\n",
    "\\end{align}"
   ]
  },
  {
   "cell_type": "markdown",
   "metadata": {},
   "source": [
    "# Types of RNN\n",
    "\n",
    "![](imgs/types_of_rnn.png)\n",
    "\n",
    "- one-to-one: vanilla\n",
    "- one-to-many: image caption\n",
    "- many-to-one: sentiment analysis\n",
    "- many-to-many-1: machine translation\n",
    "- many-to-many-2: video classification on frame level"
   ]
  },
  {
   "cell_type": "code",
   "execution_count": 1,
   "metadata": {
    "collapsed": true
   },
   "outputs": [],
   "source": [
    "import tensorflow as tf\n",
    "import numpy as np"
   ]
  },
  {
   "cell_type": "code",
   "execution_count": 2,
   "metadata": {
    "collapsed": false
   },
   "outputs": [
    {
     "name": "stdout",
     "output_type": "stream",
     "text": [
      "[[ 1.  0.  0.  0.]\n",
      " [ 0.  1.  0.  0.]\n",
      " [ 0.  0.  1.  0.]\n",
      " [ 0.  0.  1.  0.]]\n"
     ]
    }
   ],
   "source": [
    "chars = ['h','e','l','o']\n",
    "x_data = np.array([[1,0,0,0],\n",
    "                   [0,1,0,0],\n",
    "                   [0,0,1,0],\n",
    "                   [0,0,1,0]], dtype='f')    # hell\n",
    "y_data = [1,2,2,3]    # ello\n",
    "print x_data"
   ]
  },
  {
   "cell_type": "code",
   "execution_count": 3,
   "metadata": {
    "collapsed": true
   },
   "outputs": [],
   "source": [
    "# hyper-params\n",
    "rnn_size = len(chars)\n",
    "time_step_size = 4\n",
    "batch_size = 1"
   ]
  },
  {
   "cell_type": "code",
   "execution_count": 4,
   "metadata": {
    "collapsed": false
   },
   "outputs": [],
   "source": [
    "# model\n",
    "rnn_cell = tf.nn.rnn_cell.BasicRNNCell(rnn_size)\n",
    "state = tf.zeros([batch_size, rnn_cell.state_size])   # h_0\n",
    "x_split = tf.split(0, time_step_size, x_data)\n",
    "outputs, state = tf.nn.rnn(rnn_cell, x_split, state)"
   ]
  },
  {
   "cell_type": "code",
   "execution_count": 5,
   "metadata": {
    "collapsed": false
   },
   "outputs": [],
   "source": [
    "# loss\n",
    "logits = tf.reshape(tf.concat(1, outputs), [-1, rnn_size])    # y'\n",
    "targets = tf.reshape(y_data, [-1])                            # y\n",
    "weights = tf.ones([time_step_size * batch_size])\n",
    "loss = tf.nn.seq2seq.sequence_loss_by_example([logits], [targets], [weights])\n",
    "cost = tf.reduce_sum(loss) / batch_size\n",
    "train = tf.train.RMSPropOptimizer(0.01, 0.9).minimize(cost)"
   ]
  },
  {
   "cell_type": "code",
   "execution_count": 6,
   "metadata": {
    "collapsed": false
   },
   "outputs": [
    {
     "name": "stdout",
     "output_type": "stream",
     "text": [
      "[3 1 0 0] ['o', 'e', 'h', 'h']\n",
      "[3 1 0 0] ['o', 'e', 'h', 'h']\n",
      "[3 1 0 0] ['o', 'e', 'h', 'h']\n",
      "[3 1 0 0] ['o', 'e', 'h', 'h']\n",
      "[3 1 0 0] ['o', 'e', 'h', 'h']\n",
      "[3 1 0 0] ['o', 'e', 'h', 'h']\n",
      "[3 3 0 0] ['o', 'o', 'h', 'h']\n",
      "[3 3 0 0] ['o', 'o', 'h', 'h']\n",
      "[3 3 0 0] ['o', 'o', 'h', 'h']\n",
      "[3 3 0 0] ['o', 'o', 'h', 'h']\n",
      "[3 2 0 0] ['o', 'l', 'h', 'h']\n",
      "[3 2 0 0] ['o', 'l', 'h', 'h']\n",
      "[3 2 2 0] ['o', 'l', 'l', 'h']\n",
      "[3 2 2 0] ['o', 'l', 'l', 'h']\n",
      "[3 2 2 0] ['o', 'l', 'l', 'h']\n",
      "[3 2 2 0] ['o', 'l', 'l', 'h']\n",
      "[3 2 2 0] ['o', 'l', 'l', 'h']\n",
      "[3 2 2 0] ['o', 'l', 'l', 'h']\n",
      "[3 2 2 0] ['o', 'l', 'l', 'h']\n",
      "[3 2 2 0] ['o', 'l', 'l', 'h']\n",
      "[3 2 2 0] ['o', 'l', 'l', 'h']\n",
      "[3 2 2 0] ['o', 'l', 'l', 'h']\n",
      "[3 2 2 0] ['o', 'l', 'l', 'h']\n",
      "[3 2 2 2] ['o', 'l', 'l', 'l']\n",
      "[3 2 2 2] ['o', 'l', 'l', 'l']\n",
      "[3 2 2 2] ['o', 'l', 'l', 'l']\n",
      "[3 2 2 2] ['o', 'l', 'l', 'l']\n",
      "[3 2 2 2] ['o', 'l', 'l', 'l']\n",
      "[3 2 2 2] ['o', 'l', 'l', 'l']\n",
      "[3 2 2 2] ['o', 'l', 'l', 'l']\n",
      "[3 2 2 2] ['o', 'l', 'l', 'l']\n",
      "[1 2 2 2] ['e', 'l', 'l', 'l']\n",
      "[1 2 2 2] ['e', 'l', 'l', 'l']\n",
      "[1 2 2 2] ['e', 'l', 'l', 'l']\n",
      "[1 2 2 2] ['e', 'l', 'l', 'l']\n",
      "[1 2 2 2] ['e', 'l', 'l', 'l']\n",
      "[1 2 2 2] ['e', 'l', 'l', 'l']\n",
      "[1 2 2 2] ['e', 'l', 'l', 'l']\n",
      "[1 2 2 2] ['e', 'l', 'l', 'l']\n",
      "[1 2 2 2] ['e', 'l', 'l', 'l']\n",
      "[1 2 2 2] ['e', 'l', 'l', 'l']\n",
      "[1 2 2 2] ['e', 'l', 'l', 'l']\n",
      "[1 2 2 2] ['e', 'l', 'l', 'l']\n",
      "[1 2 2 2] ['e', 'l', 'l', 'l']\n",
      "[1 2 2 2] ['e', 'l', 'l', 'l']\n",
      "[1 2 2 2] ['e', 'l', 'l', 'l']\n",
      "[1 2 2 2] ['e', 'l', 'l', 'l']\n",
      "[1 2 2 2] ['e', 'l', 'l', 'l']\n",
      "[1 2 2 2] ['e', 'l', 'l', 'l']\n",
      "[1 2 2 2] ['e', 'l', 'l', 'l']\n",
      "[1 2 2 2] ['e', 'l', 'l', 'l']\n",
      "[1 2 2 3] ['e', 'l', 'l', 'o']\n",
      "[1 2 2 3] ['e', 'l', 'l', 'o']\n",
      "[1 2 2 3] ['e', 'l', 'l', 'o']\n",
      "[1 2 2 3] ['e', 'l', 'l', 'o']\n",
      "[1 2 2 3] ['e', 'l', 'l', 'o']\n",
      "[1 2 2 3] ['e', 'l', 'l', 'o']\n",
      "[1 2 2 3] ['e', 'l', 'l', 'o']\n",
      "[1 2 2 3] ['e', 'l', 'l', 'o']\n",
      "[1 2 2 3] ['e', 'l', 'l', 'o']\n",
      "[1 2 2 3] ['e', 'l', 'l', 'o']\n",
      "[1 2 2 3] ['e', 'l', 'l', 'o']\n",
      "[1 2 2 3] ['e', 'l', 'l', 'o']\n",
      "[1 2 2 3] ['e', 'l', 'l', 'o']\n",
      "[1 2 2 3] ['e', 'l', 'l', 'o']\n",
      "[1 2 2 3] ['e', 'l', 'l', 'o']\n",
      "[1 2 2 3] ['e', 'l', 'l', 'o']\n",
      "[1 2 2 3] ['e', 'l', 'l', 'o']\n",
      "[1 2 2 3] ['e', 'l', 'l', 'o']\n",
      "[1 2 2 3] ['e', 'l', 'l', 'o']\n",
      "[1 2 2 3] ['e', 'l', 'l', 'o']\n",
      "[1 2 2 3] ['e', 'l', 'l', 'o']\n",
      "[1 2 2 3] ['e', 'l', 'l', 'o']\n",
      "[1 2 2 3] ['e', 'l', 'l', 'o']\n",
      "[1 2 2 3] ['e', 'l', 'l', 'o']\n",
      "[1 2 2 3] ['e', 'l', 'l', 'o']\n",
      "[1 2 2 3] ['e', 'l', 'l', 'o']\n",
      "[1 2 2 3] ['e', 'l', 'l', 'o']\n",
      "[1 2 2 3] ['e', 'l', 'l', 'o']\n",
      "[1 2 2 3] ['e', 'l', 'l', 'o']\n",
      "[1 2 2 3] ['e', 'l', 'l', 'o']\n",
      "[1 2 2 3] ['e', 'l', 'l', 'o']\n",
      "[1 2 2 3] ['e', 'l', 'l', 'o']\n",
      "[1 2 2 3] ['e', 'l', 'l', 'o']\n",
      "[1 2 2 3] ['e', 'l', 'l', 'o']\n",
      "[1 2 2 3] ['e', 'l', 'l', 'o']\n",
      "[1 2 2 3] ['e', 'l', 'l', 'o']\n",
      "[1 2 2 3] ['e', 'l', 'l', 'o']\n",
      "[1 2 2 3] ['e', 'l', 'l', 'o']\n",
      "[1 2 2 3] ['e', 'l', 'l', 'o']\n",
      "[1 2 2 3] ['e', 'l', 'l', 'o']\n",
      "[1 2 2 3] ['e', 'l', 'l', 'o']\n",
      "[1 2 2 3] ['e', 'l', 'l', 'o']\n",
      "[1 2 2 3] ['e', 'l', 'l', 'o']\n",
      "[1 2 2 3] ['e', 'l', 'l', 'o']\n",
      "[1 2 2 3] ['e', 'l', 'l', 'o']\n",
      "[1 2 2 3] ['e', 'l', 'l', 'o']\n",
      "[1 2 2 3] ['e', 'l', 'l', 'o']\n",
      "[1 2 2 3] ['e', 'l', 'l', 'o']\n",
      "[1 2 2 3] ['e', 'l', 'l', 'o']\n"
     ]
    }
   ],
   "source": [
    "# train\n",
    "with tf.Session() as sess:\n",
    "    tf.initialize_all_variables().run()\n",
    "    for i in range(100):\n",
    "        sess.run(train)\n",
    "        result = sess.run(tf.argmax(logits, 1))\n",
    "        print result, [chars[t] for t in result]"
   ]
  }
 ],
 "metadata": {
  "kernelspec": {
   "display_name": "Python 2",
   "language": "python",
   "name": "python2"
  },
  "language_info": {
   "codemirror_mode": {
    "name": "ipython",
    "version": 2
   },
   "file_extension": ".py",
   "mimetype": "text/x-python",
   "name": "python",
   "nbconvert_exporter": "python",
   "pygments_lexer": "ipython2",
   "version": "2.7.5"
  }
 },
 "nbformat": 4,
 "nbformat_minor": 1
}
