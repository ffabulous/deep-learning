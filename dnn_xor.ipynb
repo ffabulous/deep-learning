{
 "cells": [
  {
   "cell_type": "code",
   "execution_count": 1,
   "metadata": {
    "collapsed": false
   },
   "outputs": [],
   "source": [
    "import tensorflow as tf\n",
    "import numpy as np"
   ]
  },
  {
   "cell_type": "code",
   "execution_count": 2,
   "metadata": {
    "collapsed": true
   },
   "outputs": [],
   "source": [
    "# training data\n",
    "xy = np.loadtxt('data/xor.txt', unpack=True)\n",
    "x_data = np.transpose(xy[0:-1])\n",
    "y_data = np.reshape(xy[-1], (4, 1))"
   ]
  },
  {
   "cell_type": "markdown",
   "metadata": {},
   "source": [
    "### Setup DNN"
   ]
  },
  {
   "cell_type": "code",
   "execution_count": 3,
   "metadata": {
    "collapsed": true
   },
   "outputs": [],
   "source": [
    "# placeholders\n",
    "X = tf.placeholder(tf.float32)\n",
    "Y = tf.placeholder(tf.float32)"
   ]
  },
  {
   "cell_type": "code",
   "execution_count": 4,
   "metadata": {
    "collapsed": true
   },
   "outputs": [],
   "source": [
    "# weights\n",
    "W1 = tf.Variable(tf.random_uniform([2, 5], -1.0, 1.0), name='W1')\n",
    "W2 = tf.Variable(tf.random_uniform([5, 10], -1.0, 1.0), name='W2')\n",
    "W3 = tf.Variable(tf.random_uniform([10, 10], -1.0, 1.0), name='W3')\n",
    "W4 = tf.Variable(tf.random_uniform([10, 10], -1.0, 1.0), name='W4')\n",
    "W5 = tf.Variable(tf.random_uniform([10, 10], -1.0, 1.0), name='W5')\n",
    "W6 = tf.Variable(tf.random_uniform([10, 10], -1.0, 1.0), name='W6')\n",
    "W7 = tf.Variable(tf.random_uniform([10, 10], -1.0, 1.0), name='W7')\n",
    "W8 = tf.Variable(tf.random_uniform([10, 1], -1.0, 1.0), name='W8')"
   ]
  },
  {
   "cell_type": "code",
   "execution_count": 5,
   "metadata": {
    "collapsed": true
   },
   "outputs": [],
   "source": [
    "# biases\n",
    "b1 = tf.Variable(tf.zeros([5]), name='b1')\n",
    "b3 = tf.Variable(tf.zeros([10]), name='b3')\n",
    "b2 = tf.Variable(tf.zeros([10]), name='b2')\n",
    "b4 = tf.Variable(tf.zeros([10]), name='b4')\n",
    "b5 = tf.Variable(tf.zeros([10]), name='b5')\n",
    "b6 = tf.Variable(tf.zeros([10]), name='b6')\n",
    "b7 = tf.Variable(tf.zeros([10]), name='b7')\n",
    "b8 = tf.Variable(tf.zeros([1]), name='b8')"
   ]
  },
  {
   "cell_type": "code",
   "execution_count": 6,
   "metadata": {
    "collapsed": true
   },
   "outputs": [],
   "source": [
    "# layers\n",
    "# if deep: tf.sigmoid causes vanishing gradient problem\n",
    "with tf.name_scope('L1') as scope:\n",
    "    L1 = tf.nn.relu(tf.matmul(X, W1) + b1)\n",
    "with tf.name_scope('L2') as scope:\n",
    "    L2 = tf.nn.relu(tf.matmul(L1, W2) + b2)\n",
    "with tf.name_scope('L3') as scope:\n",
    "    L3 = tf.nn.relu(tf.matmul(L2, W3) + b3)\n",
    "with tf.name_scope('L4') as scope:\n",
    "    L4 = tf.nn.relu(tf.matmul(L3, W4) + b4)\n",
    "with tf.name_scope('L5') as scope:\n",
    "    L5 = tf.nn.relu(tf.matmul(L4, W5) + b5)\n",
    "with tf.name_scope('L6') as scope:\n",
    "    L6 = tf.nn.relu(tf.matmul(L5, W6) + b6)\n",
    "with tf.name_scope('L7') as scope:\n",
    "    L7 = tf.nn.relu(tf.matmul(L6, W7) + b7)\n",
    "with tf.name_scope('L8') as scope:\n",
    "    hypothesis = tf.sigmoid(tf.matmul(L8, W8) + b8)"
   ]
  },
  {
   "cell_type": "code",
   "execution_count": 7,
   "metadata": {
    "collapsed": true
   },
   "outputs": [],
   "source": [
    "# cross entropy\n",
    "with tf.name_scope('cost') as scope:\n",
    "    cost = -tf.reduce_mean(Y * tf.log(hypothesis) + (1-Y) * tf.log(1 - hypothesis))\n",
    "    cost_summ = tf.scalar_summary('cost', cost)    # debug"
   ]
  },
  {
   "cell_type": "code",
   "execution_count": 8,
   "metadata": {
    "collapsed": true
   },
   "outputs": [],
   "source": [
    "# gradient descent\n",
    "with tf.name_scope('train') as scope:\n",
    "    a = tf.Variable(0.1)    # learning rate\n",
    "    optimizer = tf.train.GradientDescentOptimizer(a)\n",
    "    train = optimizer.minimize(cost)"
   ]
  },
  {
   "cell_type": "code",
   "execution_count": 9,
   "metadata": {
    "collapsed": true
   },
   "outputs": [],
   "source": [
    "# evaluation\n",
    "with tf.name_scope('accuracy') as scope:\n",
    "    correct_prediction = tf.equal(tf.round(hypothesis), Y)\n",
    "    accuracy = tf.reduce_mean(tf.cast(correct_prediction, 'float'))\n",
    "    accuracy_summ = tf.scalar_summary('accuracy', accuracy)"
   ]
  },
  {
   "cell_type": "code",
   "execution_count": 10,
   "metadata": {
    "collapsed": true
   },
   "outputs": [],
   "source": [
    "# histograms (debug)\n",
    "W1_hist = tf.histogram_summary('W1', W1)\n",
    "W2_hist = tf.histogram_summary('W2', W2)\n",
    "W3_hist = tf.histogram_summary('W3', W3)\n",
    "W4_hist = tf.histogram_summary('W4', W4)\n",
    "W5_hist = tf.histogram_summary('W5', W5)\n",
    "W6_hist = tf.histogram_summary('W6', W6)\n",
    "W7_hist = tf.histogram_summary('W7', W7)\n",
    "W8_hist = tf.histogram_summary('W8', W8)\n",
    "b1_hist = tf.histogram_summary('b1', b1)\n",
    "b2_hist = tf.histogram_summary('b2', b2)\n",
    "b3_hist = tf.histogram_summary('b3', b3)\n",
    "b4_hist = tf.histogram_summary('b4', b4)\n",
    "b5_hist = tf.histogram_summary('b5', b5)\n",
    "b6_hist = tf.histogram_summary('b6', b6)\n",
    "b7_hist = tf.histogram_summary('b7', b7)\n",
    "b8_hist = tf.histogram_summary('b8', b8)"
   ]
  },
  {
   "cell_type": "markdown",
   "metadata": {},
   "source": [
    "### Run DNN"
   ]
  },
  {
   "cell_type": "code",
   "execution_count": 11,
   "metadata": {
    "collapsed": true
   },
   "outputs": [],
   "source": [
    "# have to initialize explicitly\n",
    "init = tf.initialize_all_variables()"
   ]
  },
  {
   "cell_type": "code",
   "execution_count": 12,
   "metadata": {
    "collapsed": false
   },
   "outputs": [
    {
     "name": "stdout",
     "output_type": "stream",
     "text": [
      "0 [0.7323966, 0.25]\n",
      "200 [0.00095349096, 1.0]\n",
      "400 [0.00031032244, 1.0]\n",
      "600 [0.00017286919, 1.0]\n",
      "800 [0.00011642991, 1.0]\n",
      "1000 [8.6400862e-05, 1.0]\n",
      "1200 [6.7951725e-05, 1.0]\n",
      "1400 [5.5612763e-05, 1.0]\n",
      "1600 [4.6850408e-05, 1.0]\n",
      "1800 [4.0353203e-05, 1.0]\n",
      "2000 [3.5316411e-05, 1.0]\n",
      "2200 [3.1292951e-05, 1.0]\n",
      "2400 [2.8074201e-05, 1.0]\n",
      "2600 [2.5421721e-05, 1.0]\n",
      "2800 [2.3186489e-05, 1.0]\n",
      "3000 [2.1279096e-05, 1.0]\n",
      "3200 [1.9669737e-05, 1.0]\n",
      "3400 [1.8209394e-05, 1.0]\n",
      "3600 [1.7017279e-05, 1.0]\n",
      "3800 [1.5884769e-05, 1.0]\n",
      "4000 [1.4960884e-05, 1.0]\n",
      "4200 [1.4096602e-05, 1.0]\n",
      "4400 [1.3291929e-05, 1.0]\n",
      "4600 [1.2576663e-05, 1.0]\n",
      "4800 [1.1950806e-05, 1.0]\n",
      "5000 [1.1354752e-05, 1.0]\n",
      "5200 [1.0848107e-05, 1.0]\n",
      "5400 [1.0401067e-05, 1.0]\n",
      "5600 [9.9242252e-06, 1.0]\n",
      "5800 [9.5367905e-06, 1.0]\n",
      "6000 [9.1195543e-06, 1.0]\n",
      "6200 [8.791726e-06, 1.0]\n",
      "6400 [8.4638978e-06, 1.0]\n",
      "6600 [8.1658709e-06, 1.0]\n",
      "6800 [7.8678459e-06, 1.0]\n",
      "7000 [7.5847211e-06, 1.0]\n",
      "7200 [7.3313995e-06, 1.0]\n",
      "7400 [7.0929791e-06, 1.0]\n",
      "7600 [6.8843615e-06, 1.0]\n",
      "7800 [6.6459411e-06, 1.0]\n",
      "8000 [6.4373235e-06, 1.0]\n",
      "8200 [6.2883109e-06, 1.0]\n",
      "8400 [6.1094956e-06, 1.0]\n",
      "8600 [5.9306803e-06, 1.0]\n",
      "8800 [5.7816683e-06, 1.0]\n",
      "9000 [5.6177541e-06, 1.0]\n",
      "9200 [5.4836428e-06, 1.0]\n",
      "9400 [5.3346303e-06, 1.0]\n",
      "9600 [5.1856182e-06, 1.0]\n",
      "9800 [5.0664084e-06, 1.0]\n"
     ]
    }
   ],
   "source": [
    "# training\n",
    "training_steps = 10000\n",
    "with tf.Session() as sess:\n",
    "    sess.run(init)\n",
    "    merged = tf.merge_all_summaries()\n",
    "    writer = tf.train.SummaryWriter('./logs/xor_logs', sess.graph)\n",
    "    for step in xrange(training_steps):\n",
    "        sess.run(train, feed_dict={X: x_data, Y: y_data})\n",
    "        if step % 200 == 0:    # debug\n",
    "            summary = sess.run(merged, feed_dict={X: x_data, Y: y_data})\n",
    "            writer.add_summary(summary, step)\n",
    "            print step, sess.run([cost, accuracy], feed_dict={X: x_data, Y: y_data})"
   ]
  },
  {
   "cell_type": "markdown",
   "metadata": {},
   "source": [
    "### Run tensorboard\n",
    "```\n",
    "$ tensorboard --logdir=./logs/xor_logs\n",
    "```"
   ]
  }
 ],
 "metadata": {
  "kernelspec": {
   "display_name": "Python 2",
   "language": "python",
   "name": "python2"
  },
  "language_info": {
   "codemirror_mode": {
    "name": "ipython",
    "version": 2
   },
   "file_extension": ".py",
   "mimetype": "text/x-python",
   "name": "python",
   "nbconvert_exporter": "python",
   "pygments_lexer": "ipython2",
   "version": "2.7.5"
  }
 },
 "nbformat": 4,
 "nbformat_minor": 1
}
