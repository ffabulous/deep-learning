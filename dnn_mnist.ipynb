{
 "cells": [
  {
   "cell_type": "code",
   "execution_count": 1,
   "metadata": {
    "collapsed": false
   },
   "outputs": [
    {
     "name": "stdout",
     "output_type": "stream",
     "text": [
      "Populating the interactive namespace from numpy and matplotlib\n"
     ]
    }
   ],
   "source": [
    "%pylab inline\n",
    "import random\n",
    "import tensorflow as tf\n",
    "import numpy as np"
   ]
  },
  {
   "cell_type": "code",
   "execution_count": 2,
   "metadata": {
    "collapsed": false
   },
   "outputs": [
    {
     "name": "stdout",
     "output_type": "stream",
     "text": [
      "Extracting data/train-images-idx3-ubyte.gz\n",
      "Extracting data/train-labels-idx1-ubyte.gz\n",
      "Extracting data/t10k-images-idx3-ubyte.gz\n",
      "Extracting data/t10k-labels-idx1-ubyte.gz\n"
     ]
    }
   ],
   "source": [
    "# training data\n",
    "from tensorflow.examples.tutorials.mnist import input_data\n",
    "mnist = input_data.read_data_sets('data/', one_hot=True)"
   ]
  },
  {
   "cell_type": "code",
   "execution_count": 3,
   "metadata": {
    "collapsed": true
   },
   "outputs": [],
   "source": [
    "# hyper-params\n",
    "learning_rate = 0.001\n",
    "training_epochs = 15\n",
    "batch_size = 100"
   ]
  },
  {
   "cell_type": "code",
   "execution_count": 5,
   "metadata": {
    "collapsed": false
   },
   "outputs": [],
   "source": [
    "# placeholders\n",
    "X = tf.placeholder('float', [None, 28*28])\n",
    "Y = tf.placeholder('float', [None, 10])    # 0-9\n",
    "dropout_rate = tf.placeholder('float')"
   ]
  },
  {
   "cell_type": "code",
   "execution_count": 6,
   "metadata": {
    "collapsed": false
   },
   "outputs": [],
   "source": [
    "# weights\n",
    "# W1 = tf.Variable(tf.random_normal([28*28, 256]))\n",
    "# W2 = tf.Variable(tf.random_normal([256, 256]))\n",
    "# W3 = tf.Variable(tf.random_normal([256, 10]))\n",
    "# Xavier keeps the scale of gradients roughly the same in all layers\n",
    "W1 = tf.get_variable('W1', shape=[784, 256], initializer=tf.contrib.layers.xavier_initializer()) \n",
    "W2 = tf.get_variable('W2', shape=[256, 256], initializer=tf.contrib.layers.xavier_initializer()) \n",
    "W3 = tf.get_variable('W3', shape=[256, 10], initializer=tf.contrib.layers.xavier_initializer()) "
   ]
  },
  {
   "cell_type": "code",
   "execution_count": 7,
   "metadata": {
    "collapsed": true
   },
   "outputs": [],
   "source": [
    "# biases\n",
    "b1 = tf.Variable(tf.random_normal([256]))\n",
    "b2 = tf.Variable(tf.random_normal([256]))\n",
    "b3 = tf.Variable(tf.random_normal([10]))"
   ]
  },
  {
   "cell_type": "code",
   "execution_count": 8,
   "metadata": {
    "collapsed": false
   },
   "outputs": [],
   "source": [
    "# layers\n",
    "_L1 = tf.nn.relu(tf.add(tf.matmul(X, W1), b1))\n",
    "L1 = tf.nn.dropout(_L1, dropout_rate)\n",
    "_L2 = tf.nn.relu(tf.add(tf.matmul(L1, W2), b2))\n",
    "L2 = tf.nn.dropout(_L2, dropout_rate)\n",
    "hypothesis = tf.add(tf.matmul(L2, W3),  b3)\n",
    "cost = tf.reduce_mean(tf.nn.softmax_cross_entropy_with_logits(hypothesis, Y))\n",
    "# hypothesis = tf.nn.softmax(tf.matmul(X, W) + b)\n",
    "# cost = tf.reduce_mean(-tf.reduce_sum(y*tf.log(hypothesis), reduction_indices=1))\n",
    "optimizer = tf.train.AdamOptimizer(learning_rate).minimize(cost)"
   ]
  },
  {
   "cell_type": "code",
   "execution_count": 9,
   "metadata": {
    "collapsed": false
   },
   "outputs": [
    {
     "name": "stdout",
     "output_type": "stream",
     "text": [
      "1 0.341002754195\n",
      "2 0.123391390114\n",
      "3 0.0853244954686\n",
      "4 0.0650085194392\n",
      "5 0.0512771059772\n",
      "6 0.0422867586582\n",
      "7 0.0363792413439\n",
      "8 0.029870590052\n",
      "9 0.0252635351734\n",
      "10 0.0221448461161\n",
      "11 0.0195190148772\n",
      "12 0.0168861986277\n",
      "13 0.0144065293313\n",
      "14 0.0135877492531\n",
      "15 0.012508757161\n"
     ]
    }
   ],
   "source": [
    "# train\n",
    "init = tf.initialize_all_variables()\n",
    "sess = tf.Session()\n",
    "sess.run(init)\n",
    "for epoch in range(training_epochs):\n",
    "    avg_cost =0.\n",
    "    total_batch = int(mnist.train.num_examples / batch_size)\n",
    "    for i in range(total_batch):\n",
    "        batch_xs, batch_ys = mnist.train.next_batch(batch_size)\n",
    "        sess.run(optimizer, feed_dict={X: batch_xs, Y: batch_ys, dropout_rate: 0.7})    # deactivate 30%\n",
    "        avg_cost += sess.run(cost, feed_dict={X: batch_xs, Y: batch_ys, dropout_rate: 1.0}) / total_batch\n",
    "    print epoch + 1, avg_cost"
   ]
  },
  {
   "cell_type": "code",
   "execution_count": 10,
   "metadata": {
    "collapsed": false
   },
   "outputs": [
    {
     "name": "stdout",
     "output_type": "stream",
     "text": [
      "[6]\n"
     ]
    },
    {
     "data": {
      "image/png": "[encoded data removed]",
      "text/plain": [
       "<matplotlib.figure.Figure at 0x8f35ad0>"
      ]
     },
     "metadata": {},
     "output_type": "display_data"
    }
   ],
   "source": [
    "# test\n",
    "n = random.randint(0, mnist.test.num_examples)\n",
    "pylab.imshow(mnist.test.images[n:n+1].reshape(28, 28), cmap='Greys', interpolation='nearest')\n",
    "print sess.run(tf.argmax(hypothesis, 1), {X: mnist.test.images[n:n+1], dropout_rate: 1.0})"
   ]
  },
  {
   "cell_type": "code",
   "execution_count": 11,
   "metadata": {
    "collapsed": false
   },
   "outputs": [
    {
     "name": "stdout",
     "output_type": "stream",
     "text": [
      "0.9816\n"
     ]
    }
   ],
   "source": [
    "# eval\n",
    "correct_prediction = tf.equal(tf.argmax(hypothesis, 1), tf.argmax(Y, 1))\n",
    "accuracy = tf.reduce_mean(tf.cast(correct_prediction, 'float'))\n",
    "print sess.run(accuracy, {X: mnist.test.images, Y: mnist.test.labels, dropout_rate: 1.0})"
   ]
  },
  {
   "cell_type": "markdown",
   "metadata": {},
   "source": [
    "# Performance\n",
    "\n",
    "- Softmax (baseline): 91.4\n",
    "- DNN: 94.4\n",
    "- +Xavier: 97.8\n",
    "- +Dropout: 98.0\n",
    "- CNN: 99.2"
   ]
  }
 ],
 "metadata": {
  "kernelspec": {
   "display_name": "Python 2",
   "language": "python",
   "name": "python2"
  },
  "language_info": {
   "codemirror_mode": {
    "name": "ipython",
    "version": 2
   },
   "file_extension": ".py",
   "mimetype": "text/x-python",
   "name": "python",
   "nbconvert_exporter": "python",
   "pygments_lexer": "ipython2",
   "version": "2.7.5"
  }
 },
 "nbformat": 4,
 "nbformat_minor": 1
}
