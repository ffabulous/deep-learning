{
 "cells": [
  {
   "cell_type": "code",
   "execution_count": null,
   "metadata": {
    "collapsed": true
   },
   "outputs": [],
   "source": [
    "LIB_DIR = '~/kcpark/package/tensorflow-glove'\n",
    "WORK_DIR = '~/kcpark/workspace/dl4rs/embedding'"
   ]
  },
  {
   "cell_type": "code",
   "execution_count": null,
   "metadata": {
    "collapsed": false
   },
   "outputs": [],
   "source": [
    "import sys\n",
    "sys.path.append(LIB_DIR)\n",
    "import numpy as np\n",
    "from scipy.spatial.distance import cdist\n",
    "import tf_glove"
   ]
  },
  {
   "cell_type": "code",
   "execution_count": null,
   "metadata": {
    "collapsed": true
   },
   "outputs": [],
   "source": [
    "# model\n",
    "model = tf_glove.GloVeModel(\n",
    "    embedding_size=100,    # 50-300\n",
    "    context_size=10,\n",
    "    max_vocab_size=100000,\n",
    "    min_occurrences=5,\n",
    "    batch_size=512,\n",
    "    learning_rate=0.05,\n",
    ")"
   ]
  },
  {
   "cell_type": "code",
   "execution_count": null,
   "metadata": {
    "collapsed": false
   },
   "outputs": [],
   "source": [
    "# load data\n",
    "def get_corpus(corpus_file):\n",
    "    for l in open(corpus_file):\n",
    "        gdid, terms = l.strip().split('\\t')\n",
    "        yield eval(terms)    # ['박근혜', '최순실', ...]\n",
    "corpus = get_corpus(WORK_DIR+'/data/corpus.txt')\n",
    "model.fit_to_corpus(corpus)"
   ]
  },
  {
   "cell_type": "code",
   "execution_count": null,
   "metadata": {
    "collapsed": false
   },
   "outputs": [],
   "source": [
    "# train\n",
    "model.train(\n",
    "    log_dir=WORK_DIR+'/logs',\n",
    "    num_epochs=100,\n",
    "    summary_batch_interval=1000,\n",
    ")"
   ]
  },
  {
   "cell_type": "code",
   "execution_count": null,
   "metadata": {
    "collapsed": false
   },
   "outputs": [],
   "source": [
    "# nn (test)\n",
    "v = model.embedding_for('박근혜')    # model.embedding[model.id_for_word('최순실')]\n",
    "W = model.embeddings\n",
    "similarity = cdist(W, v.reshape(1, -1), 'cosine').reshape(-1)\n",
    "for idx in similarity.argsort()[1:10+1]:\n",
    "    print model.words[idx], similarity[idx]"
   ]
  },
  {
   "cell_type": "code",
   "execution_count": null,
   "metadata": {
    "collapsed": true
   },
   "outputs": [],
   "source": [
    "# save result\n",
    "np.save(WORK_DIR+'/models/e01', model.embeddings)\n",
    "with open(WORK_DIR+'/models/v01.txt', 'w') as vocab:\n",
    "    vocab.write('\\n'.join(model.words))"
   ]
  }
 ],
 "metadata": {
  "kernelspec": {
   "display_name": "Python 2",
   "language": "python",
   "name": "python2"
  },
  "language_info": {
   "codemirror_mode": {
    "name": "ipython",
    "version": 2
   },
   "file_extension": ".py",
   "mimetype": "text/x-python",
   "name": "python",
   "nbconvert_exporter": "python",
   "pygments_lexer": "ipython2",
   "version": "2.7.5"
  }
 },
 "nbformat": 4,
 "nbformat_minor": 1
}
