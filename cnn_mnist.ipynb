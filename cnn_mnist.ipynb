{
 "cells": [
  {
   "cell_type": "code",
   "execution_count": 1,
   "metadata": {
    "collapsed": true
   },
   "outputs": [],
   "source": [
    "import tensorflow as tf\n",
    "import numpy as np"
   ]
  },
  {
   "cell_type": "code",
   "execution_count": 2,
   "metadata": {
    "collapsed": false
   },
   "outputs": [
    {
     "name": "stdout",
     "output_type": "stream",
     "text": [
      "Extracting data/train-images-idx3-ubyte.gz\n",
      "Extracting data/train-labels-idx1-ubyte.gz\n",
      "Extracting data/t10k-images-idx3-ubyte.gz\n",
      "Extracting data/t10k-labels-idx1-ubyte.gz\n"
     ]
    }
   ],
   "source": [
    "# training data\n",
    "from tensorflow.examples.tutorials.mnist import input_data\n",
    "mnist = input_data.read_data_sets('data/', one_hot=True)\n",
    "trX, trY = mnist.train.images, mnist.train.labels\n",
    "teX, teY = mnist.test.images, mnist.test.labels\n",
    "trX = trX.reshape(-1, 28, 28, 1)  # 28*28*1 color img\n",
    "teX = teX.reshape(-1, 28, 28, 1)  # -1 = n"
   ]
  },
  {
   "cell_type": "code",
   "execution_count": 3,
   "metadata": {
    "collapsed": true
   },
   "outputs": [],
   "source": [
    "# placeholders\n",
    "X = tf.placeholder(\"float\", [None, 28, 28, 1])\n",
    "Y = tf.placeholder(\"float\", [None, 10])\n",
    "dropout_conv = tf.placeholder(\"float\")\n",
    "dropout_fc = tf.placeholder(\"float\")"
   ]
  },
  {
   "cell_type": "code",
   "execution_count": 4,
   "metadata": {
    "collapsed": true
   },
   "outputs": [],
   "source": [
    "# weights\n",
    "W1 = tf.Variable(tf.random_normal([3, 3, 1, 32], stddev=0.01))    # 3*3*1 Convolution, 32 feature maps\n",
    "W2 = tf.Variable(tf.random_normal([3, 3, 32, 64], stddev=0.01))\n",
    "W3 = tf.Variable(tf.random_normal([3, 3, 64, 128], stddev=0.01))\n",
    "W4 = tf.Variable(tf.random_normal([128*4*4, 625], stddev=0.01))    # FC 2048 inputs, 625 outputs\n",
    "W5 = tf.Variable(tf.random_normal([625, 10], stddev=0.01))    # 10 labels"
   ]
  },
  {
   "cell_type": "code",
   "execution_count": 5,
   "metadata": {
    "collapsed": false
   },
   "outputs": [],
   "source": [
    "# model (cudnn >= 5.1)\n",
    "_L1 = tf.nn.relu(tf.nn.conv2d(X, W1, strides=[1, 1, 1, 1], padding='SAME'))    # shape=(?, 28, 28, 32)\n",
    "L1 = tf.nn.max_pool(_L1, ksize=[1, 2, 2, 1], strides=[1, 2, 2, 1], padding='SAME')    # shape=(?, 14, 14, 32)\n",
    "L1 = tf.nn.dropout(L1, dropout_conv)\n",
    "_L2 = tf.nn.relu(tf.nn.conv2d(L1, W2, strides=[1, 1, 1, 1], padding='SAME'))    # shape=(?, 14, 14, 64)\n",
    "L2 = tf.nn.max_pool(_L2, ksize=[1, 2, 2, 1], strides=[1, 2, 2, 1], padding='SAME')    # shape=(?, 7, 7, 64)\n",
    "L2 = tf.nn.dropout(L2, dropout_conv)\n",
    "_L3 = tf.nn.relu(tf.nn.conv2d(L2, W3, strides=[1, 1, 1, 1], padding='SAME'))    # shape=(?, 7, 7, 128)\n",
    "L3 = tf.nn.max_pool(_L3, ksize=[1, 2, 2, 1], strides=[1, 2, 2, 1], padding='SAME')    # shape=(?, 4, 4, 128)\n",
    "L3 = tf.reshape(L3, [-1, W4.get_shape().as_list()[0]])    # shape=(?, 2048)\n",
    "L3 = tf.nn.dropout(L3, dropout_conv)\n",
    "L4 = tf.nn.relu(tf.matmul(L3, W4))    # shape=(?, 625)\n",
    "L4 = tf.nn.dropout(L4, dropout_fc)\n",
    "hypothesis = tf.matmul(L4, W5)    # shape=(?, 10)\n",
    "predict = tf.argmax(hypothesis, 1)\n",
    "cost = tf.reduce_mean(tf.nn.softmax_cross_entropy_with_logits(hypothesis, Y))\n",
    "train = tf.train.RMSPropOptimizer(0.001, 0.9).minimize(cost)"
   ]
  },
  {
   "cell_type": "code",
   "execution_count": 7,
   "metadata": {
    "collapsed": false
   },
   "outputs": [
    {
     "name": "stdout",
     "output_type": "stream",
     "text": [
      "(0, 0.96484375)\n",
      "(1, 0.9765625)\n",
      "(2, 1.0)\n",
      "(3, 0.9921875)\n",
      "(4, 0.99609375)\n",
      "(5, 0.99609375)\n",
      "(6, 1.0)\n",
      "(7, 0.99609375)\n",
      "(8, 1.0)\n",
      "(9, 0.98828125)\n"
     ]
    }
   ],
   "source": [
    "batch_size = 128\n",
    "test_size = 256\n",
    "with tf.Session() as sess:\n",
    "    tf.initialize_all_variables().run()\n",
    "    for i in range(10):\n",
    "        training_batch = zip(range(0, len(trX), batch_size), range(batch_size, len(trX)+1, batch_size))\n",
    "        for start, end in training_batch:\n",
    "            sess.run(train, {X: trX[start:end], Y: trY[start:end], dropout_conv: 0.8, dropout_fc: 0.5})\n",
    "        test_indices = np.arange(len(teX)) # get test batch\n",
    "        np.random.shuffle(test_indices)\n",
    "        test_indices = test_indices[0:test_size]\n",
    "        print(i, np.mean(np.argmax(teY[test_indices], axis=1) == sess.run(predict, {X: teX[test_indices], dropout_conv: 1.0, dropout_fc: 1.0})))"
   ]
  }
 ],
 "metadata": {
  "kernelspec": {
   "display_name": "Python 2",
   "language": "python",
   "name": "python2"
  },
  "language_info": {
   "codemirror_mode": {
    "name": "ipython",
    "version": 2
   },
   "file_extension": ".py",
   "mimetype": "text/x-python",
   "name": "python",
   "nbconvert_exporter": "python",
   "pygments_lexer": "ipython2",
   "version": "2.7.5"
  }
 },
 "nbformat": 4,
 "nbformat_minor": 1
}
